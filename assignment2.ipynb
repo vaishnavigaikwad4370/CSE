{
 "cells": [
  {
   "cell_type": "markdown",
   "id": "e09308b6-24a2-4d0a-86eb-81bbab83c991",
   "metadata": {},
   "source": [
    "# 1. store and display student information"
   ]
  },
  {
   "cell_type": "code",
   "execution_count": 21,
   "id": "a791a7ca-8a64-4ea9-b906-361ae14ad59f",
   "metadata": {},
   "outputs": [
    {
     "name": "stdout",
     "output_type": "stream",
     "text": [
      "Alice, 14, 8th\n",
      "Bob, 15, 9th\n"
     ]
    }
   ],
   "source": [
    "students = [(\"Alice\", 14, \"8th\"), (\"Bob\", 15, \"9th\")]\n",
    "\n",
    "for name, age, grade in students:\n",
    "    print(f\"{name}, {age}, {grade}\")\n"
   ]
  },
  {
   "cell_type": "markdown",
   "id": "4fa968a6-79cd-4f85-936f-8cc2c926e8f0",
   "metadata": {},
   "source": [
    "# 2.list prices of grocery iteams and total them"
   ]
  },
  {
   "cell_type": "code",
   "execution_count": 22,
   "id": "556bdeed-783a-471a-92e2-f5cf0861d0b0",
   "metadata": {},
   "outputs": [
    {
     "name": "stdout",
     "output_type": "stream",
     "text": [
      "Total: 7.45\n"
     ]
    }
   ],
   "source": [
    "items = [(\"Milk\", 2.5), (\"Bread\", 1.75), (\"Eggs\", 3.2)]\n",
    "print(\"Total:\", sum(p for _, p in items))\n",
    "items = [(\"Milk\", 2.5), (\"Bread\", 1.75), (\"Eggs\", 3.2)]\n",
    "print(\"Total:\", sum(p for _, p in items))\n"
   ]
  },
  {
   "cell_type": "markdown",
   "id": "cd3b7f75-4d1e-4848-981a-8ece82996b07",
   "metadata": {},
   "source": [
    "# 3. pair items with prices using tuples."
   ]
  },
  {
   "cell_type": "code",
   "execution_count": 11,
   "id": "04dc6b71-23ee-4b18-a926-30269870467f",
   "metadata": {},
   "outputs": [
    {
     "name": "stdout",
     "output_type": "stream",
     "text": [
      "Milk: $2.5\n",
      "Bread: $1.75\n",
      "Eggs: $3.2\n"
     ]
    }
   ],
   "source": [
    "grocery = (\n",
    "    (\"Milk\", 2.5),\n",
    "    (\"Bread\", 1.75),\n",
    "    (\"Eggs\", 3.2)\n",
    ")\n",
    "for item, price in grocery:\n",
    "    print(f\"{item}: ${price}\")\n"
   ]
  },
  {
   "cell_type": "markdown",
   "id": "d64602d2-2e88-4028-b461-7fd1f10b6462",
   "metadata": {},
   "source": [
    "# 4. store and display train schedule as tuples \n"
   ]
  },
  {
   "cell_type": "code",
   "execution_count": 12,
   "id": "d710cfc4-12c2-42a3-9852-03a09dc58e84",
   "metadata": {},
   "outputs": [
    {
     "name": "stdout",
     "output_type": "stream",
     "text": [
      "Train Schedule:\n",
      "Express A departs at 08:00 AM to City X\n",
      "Local B departs at 09:30 AM to Town Y\n",
      "Superfast C departs at 11:15 AM to City Z\n"
     ]
    }
   ],
   "source": [
    "schedule = (\n",
    "    (\"Express A\", \"08:00 AM\", \"City X\"),\n",
    "    (\"Local B\", \"09:30 AM\", \"Town Y\"),\n",
    "    (\"Superfast C\", \"11:15 AM\", \"City Z\")\n",
    ")\n",
    "print(\"Train Schedule:\")\n",
    "for train in schedule:\n",
    "    name, time, destination = train\n",
    "    print(f\"{name} departs at {time} to {destination}\")\n"
   ]
  },
  {
   "cell_type": "markdown",
   "id": "aa5b41b7-d870-4345-92d0-62cb4ee69c7e",
   "metadata": {},
   "source": [
    "# 5. sort employee records by salary \n"
   ]
  },
  {
   "cell_type": "code",
   "execution_count": 13,
   "id": "fa7c89f4-dca4-46cb-8203-bb07fb3b071b",
   "metadata": {},
   "outputs": [
    {
     "name": "stdout",
     "output_type": "stream",
     "text": [
      "Charlie - Analyst - $50000\n",
      "Bob - Developer - $60000\n",
      "Alice - Manager - $75000\n"
     ]
    }
   ],
   "source": [
    "employees = [\n",
    "    (\"Alice\", \"Manager\", 75000),\n",
    "    (\"Bob\", \"Developer\", 60000),\n",
    "    (\"Charlie\", \"Analyst\", 50000)\n",
    "]\n",
    "sorted_employees = sorted(employees, key=lambda x: x[2])\n",
    "for emp in sorted_employees:\n",
    "    print(f\"{emp[0]} - {emp[1]} - ${emp[2]}\")\n"
   ]
  },
  {
   "cell_type": "markdown",
   "id": "77c44e2b-ca33-4c93-b5b5-dd37c7d53641",
   "metadata": {},
   "source": [
    "# 6. cout how many  studends scored above 75 marks "
   ]
  },
  {
   "cell_type": "code",
   "execution_count": 14,
   "id": "be828ca3-ed0b-4d06-93fb-df8cae305f83",
   "metadata": {},
   "outputs": [
    {
     "name": "stdout",
     "output_type": "stream",
     "text": [
      "Students scored above 75: 3\n"
     ]
    }
   ],
   "source": [
    "students = [\n",
    "    (\"Alice\", 82),\n",
    "    (\"Bob\", 67),\n",
    "    (\"Charlie\", 90),\n",
    "    (\"David\", 74),\n",
    "    (\"Eva\", 88)\n",
    "]\n",
    "count = sum(1 for student in students if student[1] > 75)\n",
    "\n",
    "print(f\"Students scored above 75: {count}\")\n"
   ]
  },
  {
   "cell_type": "markdown",
   "id": "195e6f23-6c9f-46c1-9443-2c2e0fe4d794",
   "metadata": {},
   "source": [
    "# 7. create a tuple of stock princes and find the max "
   ]
  },
  {
   "cell_type": "code",
   "execution_count": 15,
   "id": "84a6b9fd-3222-40e8-88ca-ff0650f66ca0",
   "metadata": {},
   "outputs": [
    {
     "name": "stdout",
     "output_type": "stream",
     "text": [
      "Highest stock price: $142.75\n"
     ]
    }
   ],
   "source": [
    "stock_prices = (120.5, 135.2, 128.0, 142.75, 131.6)\n",
    "\n",
    "max_price = max(stock_prices)\n",
    "items = [(\"Milk\", 2.5), (\"Bread\", 1.75), (\"Eggs\", 3.2)]\n",
    "print(\"Total:\", sum(p for _, p in items))\n",
    "\n",
    "print(f\"Highest stock price: ${max_price}\")\n"
   ]
  },
  {
   "cell_type": "markdown",
   "id": "beddc26a-2ec3-418b-b9f6-45151ee3d442",
   "metadata": {},
   "source": [
    "# 8.log temprature readings during the day .find the average temprature "
   ]
  },
  {
   "cell_type": "code",
   "execution_count": 16,
   "id": "ce656768-bb6f-4a21-bab0-38223ce24085",
   "metadata": {},
   "outputs": [
    {
     "name": "stdout",
     "output_type": "stream",
     "text": [
      "Average Temperature: 31.5125\n"
     ]
    }
   ],
   "source": [
    "temperatures = (30.5, 32.0, 31.2, 29.8, 33.1, 34.0, 30.0, 31.5)\n",
    "average = sum(temperatures) / len(temperatures)\n",
    "\n",
    "print(\"Average Temperature:\", average)\n"
   ]
  },
  {
   "cell_type": "markdown",
   "id": "bb84a1d1-8fa2-48b6-a3b8-5c103e65233e",
   "metadata": {},
   "source": [
    "# 9. Schedule appointment (name, time) "
   ]
  },
  {
   "cell_type": "code",
   "execution_count": 18,
   "id": "91984a77-99a0-40ac-905b-3a1bd7a90077",
   "metadata": {},
   "outputs": [
    {
     "name": "stdout",
     "output_type": "stream",
     "text": [
      "Appointment Schedule:\n",
      "Alice at 10:00 AM\n",
      "Bob at 11:30 AM\n",
      "Charlie at 02:00 PM\n"
     ]
    }
   ],
   "source": [
    "appointments = [\n",
    "    (\"Alice\", \"10:00 AM\"),\n",
    "    (\"Bob\", \"11:30 AM\"),\n",
    "    (\"Charlie\", \"02:00 PM\")\n",
    "]\n",
    "print(\"Appointment Schedule:\")\n",
    "for name, time in appointments:\n",
    "    print(f\"{name} at {time}\")\n"
   ]
  },
  {
   "cell_type": "markdown",
   "id": "fa03ba93-670c-4227-ab12-c5db47f43ab6",
   "metadata": {},
   "source": [
    "# 10. store contact info(name,phone number) "
   ]
  },
  {
   "cell_type": "code",
   "execution_count": 19,
   "id": "8b305837-8d18-4294-9d04-83f4735410fb",
   "metadata": {},
   "outputs": [
    {
     "name": "stdout",
     "output_type": "stream",
     "text": [
      "Alice: 123-456-7890\n",
      "Bob: 987-654-3210\n",
      "Charlie: 555-123-4567\n"
     ]
    }
   ],
   "source": [
    "contacts = [\n",
    "    (\"Alice\", \"123-456-7890\"),\n",
    "    (\"Bob\", \"987-654-3210\"),\n",
    "    (\"Charlie\", \"555-123-4567\")\n",
    "]\n",
    "for name, phone in contacts:\n",
    "    print(f\"{name}: {phone}\")\n"
   ]
  },
  {
   "cell_type": "markdown",
   "id": "638165bc-4622-4b05-80f7-b6a7b2b1801b",
   "metadata": {},
   "source": [
    "# 11. Display exam schedule with subject and time "
   ]
  },
  {
   "cell_type": "code",
   "execution_count": 24,
   "id": "b7fec22e-d4c0-4f12-826e-e442372a16e8",
   "metadata": {},
   "outputs": [
    {
     "name": "stdout",
     "output_type": "stream",
     "text": [
      "Exam Schedule:\n",
      "- Math: 9:00 AM\n",
      "- Science: 11:00 AM\n",
      "- History: 2:00 PM\n"
     ]
    }
   ],
   "source": [
    "exam_schedule = (\n",
    "    (\"Math\", \"9:00 AM\"),\n",
    "    (\"Science\", \"11:00 AM\"),\n",
    "    (\"History\", \"2:00 PM\")\n",
    ")\n",
    "\n",
    "print(\"Exam Schedule:\")\n",
    "for subject, time in exam_schedule:\n",
    "    print(f\"- {subject}: {time}\")# Program 20: Use set comprehension to generate a set of squares\n",
    "\n",
    "squares = {x**2 for x in range(1, 6)}\n",
    "print(\"Set of squares from 1 to 5:\", squares)\n"
   ]
  },
  {
   "cell_type": "code",
   "execution_count": null,
   "id": "59054c6d-05f3-4d87-8b01-eab7a0c84546",
   "metadata": {},
   "outputs": [],
   "source": []
  }
 ],
 "metadata": {
  "kernelspec": {
   "display_name": "Python 3 (ipykernel)",
   "language": "python",
   "name": "python3"
  },
  "language_info": {
   "codemirror_mode": {
    "name": "ipython",
    "version": 3
   },
   "file_extension": ".py",
   "mimetype": "text/x-python",
   "name": "python",
   "nbconvert_exporter": "python",
   "pygments_lexer": "ipython3",
   "version": "3.12.7"
  }
 },
 "nbformat": 4,
 "nbformat_minor": 5
}
