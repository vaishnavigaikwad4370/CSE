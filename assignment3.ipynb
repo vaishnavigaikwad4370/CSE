{
 "cells": [
  {
   "cell_type": "markdown",
   "id": "2c3faf21-42e6-406c-b523-bf876bfbe3cf",
   "metadata": {},
   "source": [
    "# 1.Basic set programs"
   ]
  },
  {
   "cell_type": "code",
   "execution_count": 3,
   "id": "d181be62-9739-4c1c-800f-aefe0ca303ef",
   "metadata": {},
   "outputs": [
    {
     "name": "stdout",
     "output_type": "stream",
     "text": [
      "Set elements: {1, 2, 3, 4, 5}\n"
     ]
    }
   ],
   "source": [
    "# Program 1: Create a set and display its elements\n",
    "my_set = {1, 2, 3, 4, 5}\n",
    "print(\"Set elements:\", my_set)\n"
   ]
  },
  {
   "cell_type": "code",
   "execution_count": 4,
   "id": "7f1e8a84-aa21-4d9e-9241-c8c083a71c44",
   "metadata": {},
   "outputs": [
    {
     "name": "stdout",
     "output_type": "stream",
     "text": [
      "After adding 4: {1, 2, 3, 4}\n"
     ]
    }
   ],
   "source": [
    "# Program 2: Add an element to a set\n",
    "my_set = {1, 2, 3}\n",
    "my_set.add(4)\n",
    "print(\"After adding 4:\", my_set)\n"
   ]
  },
  {
   "cell_type": "code",
   "execution_count": 5,
   "id": "20b6236b-d78a-4e38-af9c-df6960d878e5",
   "metadata": {},
   "outputs": [
    {
     "name": "stdout",
     "output_type": "stream",
     "text": [
      "After removing 3: {1, 2, 4}\n"
     ]
    }
   ],
   "source": [
    "# Program 3: Remove an element from a set\n",
    "my_set = {1, 2, 3, 4}\n",
    "my_set.remove(3)\n",
    "print(\"After removing 3:\", my_set)\n",
    "# 2.set operations"
   ]
  },
  {
   "cell_type": "code",
   "execution_count": 6,
   "id": "d45435e6-9155-44e4-8e4f-6df581132ccb",
   "metadata": {},
   "outputs": [
    {
     "name": "stdout",
     "output_type": "stream",
     "text": [
      "After clearing the set: set()\n"
     ]
    }
   ],
   "source": [
    "# Program 4: Clear all elements from a set\n",
    "my_set = {1, 2, 3}\n",
    "my_set.clear()\n",
    "print(\"After clearing the set:\", my_set)\n"
   ]
  },
  {
   "cell_type": "code",
   "execution_count": 7,
   "id": "3e532aac-6a74-4a25-983c-ca7ee4695690",
   "metadata": {},
   "outputs": [
    {
     "name": "stdout",
     "output_type": "stream",
     "text": [
      "Original set: {10, 20, 30}\n",
      "Copied set: {10, 20, 30}\n"
     ]
    }
   ],
   "source": [
    "# Program 5: Copy a set to another set\n",
    "set1 = {10, 20, 30}\n",
    "set2 = set1.copy()\n",
    "print(\"Original set:\", set1)\n",
    "print(\"Copied set:\", set2)\n"
   ]
  },
  {
   "cell_type": "code",
   "execution_count": 8,
   "id": "f01ce402-5917-4934-aecc-9c82646e1982",
   "metadata": {},
   "outputs": [
    {
     "name": "stdout",
     "output_type": "stream",
     "text": [
      "Is 10 in the set? True\n"
     ]
    }
   ],
   "source": [
    "# Program 6: Check if an element exists in a set\n",
    "my_set = {5, 10, 15}\n",
    "print(\"Is 10 in the set?\", 10 in my_set)\n"
   ]
  },
  {
   "cell_type": "code",
   "execution_count": 9,
   "id": "ff51e493-9193-408b-ad9a-d55db6b2b34e",
   "metadata": {},
   "outputs": [
    {
     "name": "stdout",
     "output_type": "stream",
     "text": [
      "Length of the set: 4\n"
     ]
    }
   ],
   "source": [
    "# Program 7: Find the length of a set\n",
    "my_set = {1, 2, 3, 4}\n",
    "print(\"Length of the set:\", len(my_set))\n"
   ]
  },
  {
   "cell_type": "code",
   "execution_count": 10,
   "id": "7287891b-5f6b-41a3-b15a-5ffb3c70a23c",
   "metadata": {},
   "outputs": [
    {
     "name": "stdout",
     "output_type": "stream",
     "text": [
      "Elements in the set:\n",
      "200\n",
      "100\n",
      "300\n"
     ]
    }
   ],
   "source": [
    "# Program 8: Iterate through a set using a loop\n",
    "my_set = {100, 200, 300}\n",
    "print(\"Elements in the set:\")\n",
    "for element in my_set:\n",
    "    print(element)\n"
   ]
  },
  {
   "cell_type": "markdown",
   "id": "38dfeab9-90a0-4dd0-8d22-6dbe6d8d5bb7",
   "metadata": {},
   "source": [
    "# 2.set operations"
   ]
  },
  {
   "cell_type": "code",
   "execution_count": 11,
   "id": "d766b94d-9af1-4e20-afea-4fd21226991c",
   "metadata": {},
   "outputs": [
    {
     "name": "stdout",
     "output_type": "stream",
     "text": [
      "Union: {1, 2, 3, 4, 5}\n"
     ]
    }
   ],
   "source": [
    "# Program 9: Union of two sets\n",
    "A = {1, 2, 3}\n",
    "B = {3, 4, 5}\n",
    "union_set = A | B\n",
    "print(\"Union:\", union_set)\n"
   ]
  },
  {
   "cell_type": "code",
   "execution_count": 12,
   "id": "0619d44b-3b05-442c-9e3e-f136bdd04872",
   "metadata": {},
   "outputs": [
    {
     "name": "stdout",
     "output_type": "stream",
     "text": [
      "Intersection: {3}\n"
     ]
    }
   ],
   "source": [
    "# Program 10: Intersection of two sets\n",
    "A = {1, 2, 3}\n",
    "B = {3, 4, 5}\n",
    "intersection_set = A & B\n",
    "print(\"Intersection:\", intersection_set)\n"
   ]
  },
  {
   "cell_type": "code",
   "execution_count": 13,
   "id": "2b38095c-2bb5-4db2-8726-05a3498dd70b",
   "metadata": {},
   "outputs": [
    {
     "name": "stdout",
     "output_type": "stream",
     "text": [
      "Difference (A - B): {1, 2}\n"
     ]
    }
   ],
   "source": [
    "# Program 11: Difference between two sets (A - B)\n",
    "A = {1, 2, 3}\n",
    "B = {3, 4, 5}\n",
    "difference_set = A - B\n",
    "print(\"Difference (A - B):\", difference_set)\n"
   ]
  },
  {
   "cell_type": "code",
   "execution_count": 14,
   "id": "92757de4-c518-4be8-83ad-41b611880475",
   "metadata": {},
   "outputs": [
    {
     "name": "stdout",
     "output_type": "stream",
     "text": [
      "Symmetric Difference: {1, 2, 4, 5}\n"
     ]
    }
   ],
   "source": [
    "# Program 12: Symmetric Difference between two sets\n",
    "A = {1, 2, 3}\n",
    "B = {3, 4, 5}\n",
    "sym_diff_set = A ^ B\n",
    "print(\"Symmetric Difference:\", sym_diff_set)\n"
   ]
  },
  {
   "cell_type": "code",
   "execution_count": 15,
   "id": "14096ecf-0171-489f-82d3-b59063b1a98a",
   "metadata": {},
   "outputs": [
    {
     "name": "stdout",
     "output_type": "stream",
     "text": [
      "A is subset of B: True\n"
     ]
    }
   ],
   "source": [
    "# Program 13: Check if A is subset of B\n",
    "A = {1, 2}\n",
    "B = {1, 2, 3, 4}\n",
    "is_subset = A.issubset(B)\n",
    "print(\"A is subset of B:\", is_subset)\n"
   ]
  },
  {
   "cell_type": "code",
   "execution_count": 16,
   "id": "b2a842ad-5429-47db-8c7e-b6690537a9b7",
   "metadata": {},
   "outputs": [
    {
     "name": "stdout",
     "output_type": "stream",
     "text": [
      "A is superset of B: True\n"
     ]
    }
   ],
   "source": [
    "# Program 14: Check if A is superset of B\n",
    "A = {1, 2, 3, 4}\n",
    "B = {2, 3}\n",
    "is_superset = A.issuperset(B)\n",
    "print(\"A is superset of B:\", is_superset)\n"
   ]
  },
  {
   "cell_type": "code",
   "execution_count": 17,
   "id": "195357af-bef2-4535-b76a-44df93932ff6",
   "metadata": {},
   "outputs": [
    {
     "name": "stdout",
     "output_type": "stream",
     "text": [
      "A and B are disjoint: True\n"
     ]
    }
   ],
   "source": [
    "# Program 15: Check if two sets are disjoint\n",
    "A = {1, 2}\n",
    "B = {3, 4}\n",
    "are_disjoint = A.isdisjoint(B)\n",
    "print(\"A and B are disjoint:\", are_disjoint)\n"
   ]
  },
  {
   "cell_type": "markdown",
   "id": "0c4a0f95-6884-40c0-a80b-5c7579953744",
   "metadata": {},
   "source": [
    "# 3.set application"
   ]
  },
  {
   "cell_type": "code",
   "execution_count": 20,
   "id": "1eee869c-9669-4a93-8d3e-c4adfea6bebc",
   "metadata": {},
   "outputs": [
    {
     "name": "stdout",
     "output_type": "stream",
     "text": [
      "List after removing duplicates: [1, 2, 3, 4, 5]\n"
     ]
    }
   ],
   "source": [
    "# Program 16: Remove duplicates from a list using a set\n",
    "\n",
    "numbers = [1, 2, 2, 3, 4, 4, 5]\n",
    "unique_numbers = list(set(numbers))\n",
    "print(\"List after removing duplicates:\", unique_numbers)\n"
   ]
  },
  {
   "cell_type": "code",
   "execution_count": 21,
   "id": "cf9c3511-8f54-498d-a16b-34e3487354ca",
   "metadata": {},
   "outputs": [
    {
     "name": "stdout",
     "output_type": "stream",
     "text": [
      "List after converting to set and back: ['red', 'green', 'blue']\n"
     ]
    }
   ],
   "source": [
    "# Program 17: Convert a list to a set and back to a list\n",
    "\n",
    "colors = [\"red\", \"blue\", \"red\", \"green\"]\n",
    "color_set = set(colors)\n",
    "back_to_list = list(color_set)\n",
    "print(\"List after converting to set and back:\", back_to_list)\n"
   ]
  },
  {
   "cell_type": "code",
   "execution_count": 22,
   "id": "ee8f929e-721e-4838-86f9-5e9ef96d4e70",
   "metadata": {},
   "outputs": [
    {
     "name": "stdout",
     "output_type": "stream",
     "text": [
      "Common elements: [3, 4]\n"
     ]
    }
   ],
   "source": [
    "# Program 18: Find common elements in two lists using sets\n",
    "\n",
    "list1 = [1, 2, 3, 4]\n",
    "list2 = [3, 4, 5, 6]\n",
    "common_elements = list(set(list1) & set(list2))\n",
    "print(\"Common elements:\", common_elements)\n"
   ]
  },
  {
   "cell_type": "code",
   "execution_count": 23,
   "id": "487a0dcd-8776-49f4-b177-b84f59cd802d",
   "metadata": {},
   "outputs": [
    {
     "name": "stdout",
     "output_type": "stream",
     "text": [
      "Elements in list1 but not in list2: [1, 2]\n"
     ]
    }
   ],
   "source": [
    "# Program 19: Get elements in one list but not in another using sets\n",
    "\n",
    "list1 = [1, 2, 3, 4]\n",
    "list2 = [3, 4, 5, 6]\n",
    "difference = list(set(list1) - set(list2))\n",
    "print(\"Elements in list1 but not in list2:\", difference)\n"
   ]
  },
  {
   "cell_type": "code",
   "execution_count": 24,
   "id": "3f722c2c-b756-449a-a347-1046d859b023",
   "metadata": {},
   "outputs": [
    {
     "name": "stdout",
     "output_type": "stream",
     "text": [
      "Set of squares from 1 to 5: {1, 4, 9, 16, 25}\n"
     ]
    }
   ],
   "source": [
    "# Program 20: Use set comprehension to generate a set of squares\n",
    "\n",
    "squares = {x**2 for x in range(1, 6)}\n",
    "print(\"Set of squares from 1 to 5:\", squares)\n"
   ]
  },
  {
   "cell_type": "markdown",
   "id": "27000eaf-15e5-4485-91e4-1f6ab5c8635b",
   "metadata": {},
   "source": [
    "# 4. frozen set programs"
   ]
  },
  {
   "cell_type": "code",
   "execution_count": 1,
   "id": "1ec8e1cc-b753-40b7-8ed3-19295c15b530",
   "metadata": {},
   "outputs": [
    {
     "name": "stdout",
     "output_type": "stream",
     "text": [
      "frozenset({1, 2, 3, 4, 5})\n"
     ]
    }
   ],
   "source": [
    "#21 Create and print a fronen\n",
    "\n",
    "my_frozenset = frozenset([1, 2, 3, 4, 5])\n",
    "print(my_frozenset)"
   ]
  },
  {
   "cell_type": "code",
   "execution_count": null,
   "id": "8341e9e2-f508-4fd6-b1b8-c881b7ffc4c7",
   "metadata": {},
   "outputs": [],
   "source": []
  }
 ],
 "metadata": {
  "kernelspec": {
   "display_name": "Python 3 (ipykernel)",
   "language": "python",
   "name": "python3"
  },
  "language_info": {
   "codemirror_mode": {
    "name": "ipython",
    "version": 3
   },
   "file_extension": ".py",
   "mimetype": "text/x-python",
   "name": "python",
   "nbconvert_exporter": "python",
   "pygments_lexer": "ipython3",
   "version": "3.12.7"
  }
 },
 "nbformat": 4,
 "nbformat_minor": 5
}
