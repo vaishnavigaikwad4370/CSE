{
 "cells": [
  {
   "cell_type": "markdown",
   "id": "6a309923-452e-4ad0-9ed1-4406f0aa9ad0",
   "metadata": {},
   "source": [
    "# 1.Check if a number is odd or even"
   ]
  },
  {
   "cell_type": "code",
   "execution_count": 4,
   "id": "14ceff48-e113-453f-a260-549afb8b6702",
   "metadata": {},
   "outputs": [
    {
     "name": "stdin",
     "output_type": "stream",
     "text": [
      "enter a number 2\n"
     ]
    },
    {
     "name": "stdout",
     "output_type": "stream",
     "text": [
      "The number 2 is even\n"
     ]
    }
   ],
   "source": [
    "number = int(input(\"enter a number\"))\n",
    "\n",
    "if number%2==0:\n",
    "    print(f\"The number {number} is even\")\n",
    "else:\n",
    "    print(f\"The number {number} is odd\")"
   ]
  },
  {
   "cell_type": "markdown",
   "id": "ded71058-564e-438f-822f-dc6ace3d5327",
   "metadata": {},
   "source": [
    "# 2.count The Total Number of Digits in a number "
   ]
  },
  {
   "cell_type": "code",
   "execution_count": 20,
   "id": "b4a72933-a6c6-44c5-8cd1-028d64334b14",
   "metadata": {},
   "outputs": [
    {
     "name": "stdin",
     "output_type": "stream",
     "text": [
      "Enter an intrger number 5004\n"
     ]
    },
    {
     "name": "stdout",
     "output_type": "stream",
     "text": [
      "The total number of digit is: 4\n"
     ]
    }
   ],
   "source": [
    "num = input(\"Enter an intrger number\")\n",
    "if num.startswith('-'):\n",
    "    num = num [1:]\n",
    "\n",
    "if num.isdigit():\n",
    "    count = len(num)\n",
    "    digit_count = len(number)\n",
    "    print(f\"The total number of digit is: {count}\")\n",
    "else:\n",
    "    print(\"Invalid input! please enter a valid integer\")"
   ]
  },
  {
   "cell_type": "markdown",
   "id": "6cdcbe8b-a453-4183-b351-8816b36e80db",
   "metadata": {},
   "source": [
    "# 3. Write a python program to print the reverse number pattern using a for loop\n"
   ]
  },
  {
   "cell_type": "code",
   "execution_count": 23,
   "id": "87b6cb35-e26a-42d6-aeca-eebd5237e34d",
   "metadata": {},
   "outputs": [
    {
     "name": "stdin",
     "output_type": "stream",
     "text": [
      "Enter the number of rows 4\n"
     ]
    },
    {
     "name": "stdout",
     "output_type": "stream",
     "text": [
      "4321\n",
      "432\n",
      "43\n",
      "4\n"
     ]
    }
   ],
   "source": [
    "n = int(input(\"Enter the number of rows\"))\n",
    "\n",
    "for i in range(n):\n",
    "    for j in range(n,i,-1):\n",
    "        print(j,end='')\n",
    "    print()"
   ]
  },
  {
   "cell_type": "markdown",
   "id": "9b2eaeaf-2f7c-4009-94d1-159f156c434c",
   "metadata": {},
   "source": [
    "# 4. print all prime numbers within a range"
   ]
  },
  {
   "cell_type": "code",
   "execution_count": 29,
   "id": "7308c728-c04e-4168-926e-744b3575e017",
   "metadata": {},
   "outputs": [
    {
     "name": "stdin",
     "output_type": "stream",
     "text": [
      "Enter the start of the range 10\n",
      "enter the end of the range 40\n"
     ]
    },
    {
     "name": "stdout",
     "output_type": "stream",
     "text": [
      "prime numbers between 10 and 40 are\n",
      "1113171923293137"
     ]
    }
   ],
   "source": [
    "start = int(input(\"Enter the start of the range\"))\n",
    "end = int(input(\"enter the end of the range\"))\n",
    "\n",
    "print(f\"prime numbers between {start} and {end} are\")\n",
    "\n",
    "for num in range(start,end+1):\n",
    "    if num > 1:\n",
    "        for i in range(2,int(num**0.5)+1):\n",
    "         if num % i== 0:\n",
    "            break\n",
    "        else:\n",
    "            print(num,end='')"
   ]
  },
  {
   "cell_type": "markdown",
   "id": "b7128ad1-d638-4f5d-83cc-47c3268724c9",
   "metadata": {},
   "source": [
    "# 5.Find the factorial of a given number"
   ]
  },
  {
   "cell_type": "code",
   "execution_count": 31,
   "id": "4f6e16bd-095e-4be4-923c-84eea86ee0a8",
   "metadata": {},
   "outputs": [
    {
     "name": "stdin",
     "output_type": "stream",
     "text": [
      "Enter an non-negative integer 5\n"
     ]
    },
    {
     "name": "stdout",
     "output_type": "stream",
     "text": [
      "The factorial of 5 is  120\n"
     ]
    }
   ],
   "source": [
    " num = int(input(\"Enter an non-negative integer\"))\n",
    "if num < 0:\n",
    "    print(\"factorial is not defined for negative number\")\n",
    "else:\n",
    "    factorial = 1\n",
    "    for i in range(1,num + 1):\n",
    "        factorial*=i\n",
    "    print(f\"The factorial of {num} is  {factorial}\")\n",
    "     \n",
    " "
   ]
  },
  {
   "cell_type": "markdown",
   "id": "0ef69db5-9099-4e72-9b67-3e839a9a7b4e",
   "metadata": {},
   "source": [
    "# 6.program to check if number is palidrome\n"
   ]
  },
  {
   "cell_type": "code",
   "execution_count": 32,
   "id": "a2d23e9d-7cac-4888-95cf-97de010e6220",
   "metadata": {},
   "outputs": [
    {
     "name": "stdin",
     "output_type": "stream",
     "text": [
      "Enter a number: 121\n"
     ]
    },
    {
     "name": "stdout",
     "output_type": "stream",
     "text": [
      "121 is a palindrom\n"
     ]
    }
   ],
   "source": [
    "num = input(\"Enter a number:\")\n",
    "\n",
    "if num == num[::1]:\n",
    "    print(f\"{num} is a palindrom\")\n",
    "else:\n",
    "    print(f\"{num} is a not palindrome\")"
   ]
  },
  {
   "cell_type": "markdown",
   "id": "3e8546a1-5484-493b-9ebc-c19c8e8c0cf7",
   "metadata": {},
   "source": [
    "# 7.program to check armstong number\n"
   ]
  },
  {
   "cell_type": "code",
   "execution_count": 33,
   "id": "1aef008b-8354-40e7-b11a-589f467c1425",
   "metadata": {},
   "outputs": [
    {
     "name": "stdin",
     "output_type": "stream",
     "text": [
      "Enter a number: 9474\n"
     ]
    },
    {
     "name": "stdout",
     "output_type": "stream",
     "text": [
      "(num) is a armstrong number\n"
     ]
    }
   ],
   "source": [
    "num = int(input(\"Enter a number:\"))\n",
    "\n",
    "num_str = str(num)\n",
    "num_digits = len(num_str)\n",
    "\n",
    "armstrong_sum = sum(int(digit)**num_digits for digit in num_str)\n",
    "\n",
    "if armstrong_sum == num:\n",
    "    print(f\"(num) is a armstrong number\")\n",
    "else:\n",
    "    print(f\"{num} is not a armstrong number\")"
   ]
  },
  {
   "cell_type": "markdown",
   "id": "77bcc1d7-447c-4dd5-be38-51e4e6a5d3fb",
   "metadata": {},
   "source": [
    "# 8. find the maximum of three numbers"
   ]
  },
  {
   "cell_type": "code",
   "execution_count": 41,
   "id": "4b51b7db-426e-442f-9057-815d463b091a",
   "metadata": {},
   "outputs": [
    {
     "name": "stdout",
     "output_type": "stream",
     "text": [
      "8.maximum of (10,25,7): 25\n"
     ]
    }
   ],
   "source": [
    "def max_of_three(a,b,c):\n",
    "    return max(a,b,c) #use built-in max function\n",
    "#example\n",
    "print(\"8.maximum of (10,25,7):\",\n",
    "max_of_three(10,25,7))"
   ]
  },
  {
   "cell_type": "markdown",
   "id": "8f1b4cda-7583-4fb8-95b1-15ddde591886",
   "metadata": {},
   "source": [
    "# 9. find the sum of digits"
   ]
  },
  {
   "cell_type": "code",
   "execution_count": 44,
   "id": "c1e02ea4-16b6-486d-bcd9-425c49a0e3e6",
   "metadata": {},
   "outputs": [
    {
     "name": "stdout",
     "output_type": "stream",
     "text": [
      "9,sum of digits in 9876: 30\n"
     ]
    }
   ],
   "source": [
    "def sum_of_digits(number):\n",
    "    return sum(int(d) for d in\n",
    "str(abs(number))) #Add all digits\n",
    "\n",
    "#example\n",
    "print(\"9,sum of digits in 9876:\",\n",
    "sum_of_digits(9876))"
   ]
  },
  {
   "cell_type": "markdown",
   "id": "3b11cd62-c134-4d09-828c-c138e701605c",
   "metadata": {},
   "source": [
    "# 10. Natural numbers summation pattern"
   ]
  },
  {
   "cell_type": "code",
   "execution_count": 58,
   "id": "792a48b5-29a8-4dad-8470-4c93d7cdda34",
   "metadata": {},
   "outputs": [
    {
     "name": "stdout",
     "output_type": "stream",
     "text": [
      "10. Natural Numbers summation pattern for n=s:\n",
      "1 = 1\n",
      "1+2 = 3\n",
      "1+2+3 = 6\n",
      "1+2+3+4 = 10\n",
      "1+2+3+4+5 = 15\n"
     ]
    }
   ],
   "source": [
    "def natural_sum_pattern(n):\n",
    "    total = 0\n",
    "    for i in range(1,n + 1):\n",
    "        total += i # keep running total\n",
    "     # print the pattern: 1+2+...+i =total\n",
    "        print(\"+\".join(map(str, range(1,i+1))),'=',total)\n",
    "\n",
    "#example \n",
    "print(\"10. Natural Numbers summation pattern for n=s:\")\n",
    "natural_sum_pattern(5)"
   ]
  },
  {
   "cell_type": "code",
   "execution_count": null,
   "id": "a3182fc4-0556-44c8-adb6-38763f2bedb9",
   "metadata": {},
   "outputs": [],
   "source": []
  },
  {
   "cell_type": "code",
   "execution_count": null,
   "id": "792d889b-48a1-4811-916d-a0a404b88f8e",
   "metadata": {},
   "outputs": [],
   "source": []
  }
 ],
 "metadata": {
  "kernelspec": {
   "display_name": "Python 3 (ipykernel)",
   "language": "python",
   "name": "python3"
  },
  "language_info": {
   "codemirror_mode": {
    "name": "ipython",
    "version": 3
   },
   "file_extension": ".py",
   "mimetype": "text/x-python",
   "name": "python",
   "nbconvert_exporter": "python",
   "pygments_lexer": "ipython3",
   "version": "3.12.7"
  }
 },
 "nbformat": 4,
 "nbformat_minor": 5
}
